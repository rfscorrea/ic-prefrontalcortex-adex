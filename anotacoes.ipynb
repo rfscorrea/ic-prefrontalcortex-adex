{
 "cells": [
  {
   "metadata": {},
   "cell_type": "markdown",
   "source": [
    "# Projeto de Iniciação Científica\n",
    "### Replicação do trabalho disponível no repositório [ReScience_Hass_Hertag_Durstewitz_2016](https://github.com/Lab-SisNe/ReScience_Hass_Hertag_Durstewitz_2016) que foi baseado no artigo:\n",
    "\n",
    "**A Detailed Data-Driven Network Model of Prefrontal cortex Reproduces Key Features of In Vivo Activity**\n",
    "\n",
    "> Hass J, Hert&auml;g L, Durstewitz D (2016) A Detailed Data-Driven Network Model of Prefrontal cortex Reproduces Key Features of <em>In Vivo</em> Activity. PLoS Comput Biol 12(5): e1004930. [doi:10.1371/journal.pcbi.1004930](https://doi.org/10.1371/journal.pcbi.1004930)\n"
   ],
   "id": "aad8fe46bc8b617d"
  },
  {
   "metadata": {},
   "cell_type": "markdown",
   "source": [
    "## Parte 1/n\n",
    "\n",
    "### Criando um ambiente virtual utilizando anaconda\n",
    "\n",
    "```\n",
    "conda create -n myenv python matplotlib scipy numpy gsl\n",
    "conda activate myenv\n",
    "python -m pip install brian2\n",
    "````\n",
    "\n",
    "### Softwares e bibliotecas instalados\n",
    "1. Python 3.12.4\n",
    "2. Brian2 2.7.1\n",
    "3. Matplotlib 3.8.4\n",
    "4. Numpy 1.26.4\n",
    "5. Scipy 1.13.1\n",
    "6. GSL (2.6 or higher)"
   ],
   "id": "b75761ee0382984c"
  },
  {
   "metadata": {
    "ExecuteTime": {
     "end_time": "2024-11-20T04:08:44.521891Z",
     "start_time": "2024-11-20T04:08:44.517893Z"
    }
   },
   "cell_type": "code",
   "source": "",
   "id": "64d101f3d2e4f303",
   "outputs": [],
   "execution_count": null
  }
 ],
 "metadata": {
  "kernelspec": {
   "display_name": "Python 3",
   "language": "python",
   "name": "python3"
  },
  "language_info": {
   "codemirror_mode": {
    "name": "ipython",
    "version": 2
   },
   "file_extension": ".py",
   "mimetype": "text/x-python",
   "name": "python",
   "nbconvert_exporter": "python",
   "pygments_lexer": "ipython2",
   "version": "2.7.6"
  }
 },
 "nbformat": 4,
 "nbformat_minor": 5
}
